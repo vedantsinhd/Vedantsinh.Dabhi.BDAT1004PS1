{
 "cells": [
  {
   "cell_type": "markdown",
   "id": "6a00d3ba",
   "metadata": {},
   "source": [
    "# Problem Set 1\n",
    "### Question 1\n",
    "What data type is each of the following (evaluate where necessary)?\n",
    "5\n",
    "5.0\n",
    "5 > 1\n",
    "'5'\n",
    "5 * 2\n",
    "'5' * 2\n",
    "'5' + '2'\n",
    "5 / 2\n",
    "5 % 2\n",
    "{5, 2, 1}\n",
    "5 == 3\n",
    "Pi (the number)"
   ]
  },
  {
   "cell_type": "code",
   "execution_count": 38,
   "id": "0e4ec13c",
   "metadata": {},
   "outputs": [
    {
     "name": "stdout",
     "output_type": "stream",
     "text": [
      "<class 'int'>\n",
      "<class 'float'>\n",
      "True\n",
      "<class 'bool'>\n",
      "<class 'str'>\n",
      "10\n",
      "<class 'int'>\n",
      "<class 'str'>\n",
      "<class 'str'>\n",
      "2.5\n",
      "<class 'float'>\n",
      "1\n",
      "<class 'int'>\n",
      "<class 'set'>\n",
      "False\n",
      "<class 'bool'>\n",
      "<class 'float'>\n"
     ]
    }
   ],
   "source": [
    "print(type(5))\n",
    "print(type(5.0))\n",
    "print(5 > 1)\n",
    "print(type(5>1))\n",
    "print(type('5'))\n",
    "print(5 * 2)\n",
    "print(type(5 * 2))\n",
    "print(type('5' * 2))\n",
    "print(type('5' + '2'))\n",
    "print(5 / 2)\n",
    "print(type(5 / 2))\n",
    "print(5 % 2)\n",
    "print(type(5 % 2))\n",
    "print(type({5, 2, 1}))\n",
    "print(5 == 3)\n",
    "print(type(5 == 3))\n",
    "print(type(3.14))"
   ]
  },
  {
   "cell_type": "markdown",
   "id": "273e133f",
   "metadata": {},
   "source": [
    "### Question 2\n",
    "Write (and evaluate) python expressions that answer these questions:\n",
    "### a.\n",
    "How many letters are there in 'Supercalifragilisticexpialidocious'?"
   ]
  },
  {
   "cell_type": "code",
   "execution_count": 11,
   "id": "ced8a0e8",
   "metadata": {},
   "outputs": [
    {
     "name": "stdout",
     "output_type": "stream",
     "text": [
      "34\n"
     ]
    }
   ],
   "source": [
    "word = 'Supercalifragilisticexpialidocious';\n",
    "print(len(word));\n"
   ]
  },
  {
   "cell_type": "markdown",
   "id": "f30da5ab",
   "metadata": {},
   "source": [
    "### b.\n",
    "Does 'Supercalifragilisticexpialidocious' contain 'ice' as a substring? "
   ]
  },
  {
   "cell_type": "code",
   "execution_count": 82,
   "id": "4dbf6dd0",
   "metadata": {},
   "outputs": [
    {
     "name": "stdout",
     "output_type": "stream",
     "text": [
      "True\n"
     ]
    }
   ],
   "source": [
    "word = 'Supercalifragilisticexpialidocious';\n",
    "\n",
    "print('ice' in 'Supercalifragilisticexpialidocious')"
   ]
  },
  {
   "cell_type": "markdown",
   "id": "ea447377",
   "metadata": {},
   "source": [
    "### c. \n",
    "Which of the following words is the longest:\n",
    "Supercalifragilisticexpialidocious, Honorificabilitudinitatibus, or\n",
    "Bababadalgharaghtakamminarronnkonn? "
   ]
  },
  {
   "cell_type": "code",
   "execution_count": 1,
   "id": "2751b25e",
   "metadata": {},
   "outputs": [
    {
     "name": "stdout",
     "output_type": "stream",
     "text": [
      "Supercalifragilisticexpialidocious\n"
     ]
    }
   ],
   "source": [
    "words = ['Supercalifragilisticexpialidocious','Honorificabilitudinitatibus',\n",
    "        'Bababadalgharaghtakamminarronnkonn']\n",
    "max = max(words)\n",
    "print(max)"
   ]
  },
  {
   "cell_type": "markdown",
   "id": "d20420bd",
   "metadata": {},
   "source": [
    "### d.\n",
    "Which composer comes first in the dictionary: 'Berlioz', 'Borodin', 'Brian',\n",
    "'Bartok', 'Bellini', 'Buxtehude', 'Bernstein'. Which one comes last?"
   ]
  },
  {
   "cell_type": "code",
   "execution_count": 2,
   "id": "bfa0255b",
   "metadata": {},
   "outputs": [
    {
     "name": "stdout",
     "output_type": "stream",
     "text": [
      "['Bartok', 'Bellini', 'Berlioz', 'Bernstein', 'Borodin', 'Brian', 'Buxtehude']\n"
     ]
    }
   ],
   "source": [
    "dict= ('Berlioz', 'Borodin', 'Brian',\n",
    "'Bartok', 'Bellini', 'Buxtehude', 'Bernstein')\n",
    "\n",
    "s = sorted(dict)\n",
    "\n",
    "print(s)\n"
   ]
  },
  {
   "cell_type": "markdown",
   "id": "bd8871ff",
   "metadata": {},
   "source": [
    "### Question 3\n",
    "Implement function triangleArea(a,b,c) that takes as input the lengths of the 3\n",
    "sides of a triangle and returns the area of the triangle. By Heron's formula, the area\n",
    "of a triangle with side lengths a, b, and c is\n",
    "s(s - a)(s -b)(s -c)\n",
    ", where\n",
    "s = (a+b+c)/2. "
   ]
  },
  {
   "cell_type": "code",
   "execution_count": 83,
   "id": "0ade9585",
   "metadata": {},
   "outputs": [
    {
     "name": "stdout",
     "output_type": "stream",
     "text": [
      "1.7320508075688772\n"
     ]
    }
   ],
   "source": [
    "import math\n",
    "\n",
    "def triangleArea(a,b,c):\n",
    "    s= (a+b+c)/2\n",
    "    area = math.sqrt(s*(s-a)*(s-b)*(s-c))\n",
    "    print(area)\n",
    "\n",
    "triangleArea(2,2,2)"
   ]
  },
  {
   "cell_type": "markdown",
   "id": "184193af",
   "metadata": {},
   "source": [
    "### Question 4\n",
    "Write a program in python to separate odd and even integers in separate arrays. Go\n",
    "to the editor\n",
    "Test Data :\n",
    "Input the number of elements to be stored in the array :5\n",
    "Input 5 elements in the array :\n",
    "element - 0 : 25\n",
    "element - 1 : 47\n",
    "element - 2 : 42\n",
    "element - 3 : 56\n",
    "element - 4 : 32"
   ]
  },
  {
   "cell_type": "code",
   "execution_count": 3,
   "id": "0cb9d7a5",
   "metadata": {},
   "outputs": [
    {
     "name": "stdout",
     "output_type": "stream",
     "text": [
      "Enter number of elements : 5\n",
      "25\n",
      "47\n",
      "42\n",
      "56\n",
      "32\n",
      "Even elements are: [42, 56, 32]\n",
      "Odd elements are: [25, 47]\n"
     ]
    }
   ],
   "source": [
    "number_list = []\n",
    "n = int(input(\"Enter number of elements : \"))\n",
    "\n",
    "for i in range(0, n):\n",
    "    x = int(input())\n",
    "  \n",
    "    number_list.append(x)\n",
    "      \n",
    "evn = []\n",
    "odd = []\n",
    "\n",
    "for num in number_list:\n",
    "    if num % 2 == 0:\n",
    "        evn.append(num)\n",
    "    else:\n",
    "        odd.append(num)\n",
    "\n",
    "print(\"Even elements are:\", evn)\n",
    "print(\"Odd elements are:\", odd)"
   ]
  },
  {
   "cell_type": "markdown",
   "id": "7e9779b4",
   "metadata": {},
   "source": [
    "### Question 5\n",
    "a. Write a function inside(x,y,x1,y1,x2,y2) that returns True or False\n",
    "depending on whether the point (x,y) lies in the rectangle with lower left\n",
    "corner (x1,y1) and upper right corner (x2,y2).\n"
   ]
  },
  {
   "cell_type": "code",
   "execution_count": 12,
   "id": "ae3685ce",
   "metadata": {},
   "outputs": [
    {
     "name": "stdout",
     "output_type": "stream",
     "text": [
      "True\n",
      "False\n"
     ]
    }
   ],
   "source": [
    "def inside(x,y,x1,y1,x2,y2):\n",
    "    if (x1 < x) and (x < x2) and (y1 < y) and (y < y2):\n",
    "        print(True)\n",
    "    else:\n",
    "        print(False)\n",
    "\n",
    "inside(1,1,0,0,2,3)\n",
    "inside(-1,-1,0,0,2,3)"
   ]
  },
  {
   "cell_type": "markdown",
   "id": "3c1321fa",
   "metadata": {},
   "source": [
    "### b.\n",
    "Use function inside() from part a. to write an expression that tests whether\n",
    "the point (1,1) lies in both of the following rectangles: one with lower left\n",
    "corner (0.3, 0.5) and upper right corner (1.1, 0.7) and the other with lower\n",
    "left corner (0.5, 0.2) and upper right corner (1.1, 2). "
   ]
  },
  {
   "cell_type": "code",
   "execution_count": 4,
   "id": "244ad551",
   "metadata": {},
   "outputs": [
    {
     "name": "stdout",
     "output_type": "stream",
     "text": [
      "False\n"
     ]
    }
   ],
   "source": [
    "def inside(x,y,x1,y1,x2,y2,x3,y3,x4,y4):\n",
    "    if (x1 < x < x2) and (y1 < y < y2) and (x3 < x < x4) and (y3 < y < y4):\n",
    "        print(True)\n",
    "    else:\n",
    "        print(False)\n",
    "\n",
    "inside(1,1,0.3,0.5,1.1,0.7,0.5,0.2,1.1,2)"
   ]
  },
  {
   "cell_type": "markdown",
   "id": "af2e15d0",
   "metadata": {},
   "source": [
    "### Question 6\n",
    "16. You can turn a word into pig-Latin using the following two rules (simplified):\n",
    "• If the word starts with a consonant, move that letter to the end and append\n",
    "'ay'. For example, 'happy' becomes 'appyhay' and 'pencil' becomes 'encilpay'.\n",
    "• If the word starts with a vowel, simply append 'way' to the end of the word.\n",
    "For example, 'enter' becomes 'enterway' and 'other' becomes 'otherway' . For\n",
    "our purposes, there are 5 vowels: a, e, i, o, u (so we count y as a consonant).\n",
    "Write a function pig() that takes a word (i.e., a string) as input and returns its pigLatin form. Your function should still work if the input word contains upper case\n",
    "characters. Your output should always be lower case however. "
   ]
  },
  {
   "cell_type": "code",
   "execution_count": 14,
   "id": "eea5a65f",
   "metadata": {},
   "outputs": [
    {
     "name": "stdout",
     "output_type": "stream",
     "text": [
      "enterway\n",
      "appyhay\n"
     ]
    }
   ],
   "source": [
    "def pig(word):\n",
    "    vowels = \"aeiou\"\n",
    "    if word[0] in vowels:\n",
    "        print(word + \"way\")\n",
    "    else:\n",
    "        \n",
    "        print(word[1:] + word[0] + \"ay\")\n",
    "\n",
    "\n",
    "#word = input('enter the word:').lower()\n",
    "pig(\"happy\".lower())\n",
    "pig(\"Enter\".lower())\n",
    "\n",
    "\n",
    "    "
   ]
  },
  {
   "cell_type": "markdown",
   "id": "15161fcb",
   "metadata": {},
   "source": [
    "### Question 7\n",
    "File bloodtype1.txt records blood-types of patients (A, B, AB, O or OO) at a clinic.\n",
    "Write a function bldcount() that reads the file with name name and reports (i.e.,\n",
    "prints) how many patients there are in each bloodtype."
   ]
  },
  {
   "cell_type": "code",
   "execution_count": 5,
   "id": "9f88e07c",
   "metadata": {
    "scrolled": true
   },
   "outputs": [
    {
     "name": "stdout",
     "output_type": "stream",
     "text": [
      "There are  15  patients of blood type A\n",
      "There are  1  patients of blood type B\n",
      "There are  13  patients of blood type AB\n",
      "There are  15  patients of blood type O\n",
      "There are  0  patients of blood type OO\n"
     ]
    }
   ],
   "source": [
    "def bldcount(name):\n",
    "    f= open(name,'r+')\n",
    "    \n",
    "    count_a = 0\n",
    "    count_ab = 0\n",
    "    count_o = 0\n",
    "    count_b = 0\n",
    "    count_oo = 0\n",
    "    \n",
    "    list = f.read()\n",
    "    list = list.split()\n",
    "    f.close()\n",
    "    \n",
    "    for i in list:\n",
    "        if i == 'A':\n",
    "            count_a = count_a+1\n",
    "    print(\"There are \",count_a,\" patients of blood type A\")\n",
    "    \n",
    "    for i in list:\n",
    "        if i == 'B':\n",
    "            count_b = count_b+1\n",
    "    print(\"There are \",count_b,\" patients of blood type B\")\n",
    "    \n",
    "    for i in list:\n",
    "        if i == 'AB':\n",
    "            count_ab = count_ab+1\n",
    "    print(\"There are \",count_ab,\" patients of blood type AB\")\n",
    "    \n",
    "    for i in list:\n",
    "        if i == 'O':\n",
    "            count_o = count_o+1\n",
    "    print(\"There are \",count_o,\" patients of blood type O\")\n",
    "    \n",
    "    for i in list:\n",
    "        if i == 'OO':\n",
    "            count_oo = count_oo+1\n",
    "    print(\"There are \",count_oo,\" patients of blood type OO\")\n",
    "        \n",
    "    \n",
    "bldcount(\"blood_type.txt\")\n",
    "\n",
    "    "
   ]
  },
  {
   "cell_type": "markdown",
   "id": "dfcf42d5",
   "metadata": {},
   "source": [
    "### Question 8\n",
    "Write a function curconv() that takes as input:\n",
    "1. a currency represented using a string (e.g., 'JPY' for the Japanese Yen or\n",
    "'EUR' for the Euro)\n",
    "2. an amount\n",
    "and then converts and returns the amount in US dollars.\n"
   ]
  },
  {
   "cell_type": "code",
   "execution_count": 73,
   "id": "94d8c74f",
   "metadata": {},
   "outputs": [
    {
     "name": "stdout",
     "output_type": "stream",
     "text": [
      "122.96544\n",
      "1.241401\n"
     ]
    }
   ],
   "source": [
    "def curconv(currency, amount):\n",
    "    f = open(\"currencies.txt\")\n",
    "    \n",
    "    for line in f.readlines():\n",
    "        fields = line.split()\n",
    "        cur_type, rate = fields[0], float(fields[1])\n",
    "        if(cur_type == currency):\n",
    "            break\n",
    "    f.close()\n",
    "    return rate * amount\n",
    "\n",
    "\n",
    "print(curconv(\"EUR\", 100))\n",
    "print(curconv(\"JPY\", 100))"
   ]
  },
  {
   "cell_type": "markdown",
   "id": "d0785b47",
   "metadata": {},
   "source": [
    "### Question 9\n",
    "Each of the following will cause an exception (an error). Identify what type of\n",
    "exception each will cause.\n",
    "Trying to add incompatible variables, as in\n",
    "adding 6 + ‘a’\n",
    "Referring to the 12th item of a list that has only 10\n",
    "items\n",
    "Using a value that is out of range for a function’s\n",
    "input, such as calling math.sqrt(-1.0)\n",
    "Using an undeclared variable, such as print(x)\n",
    "when x has not been defined\n",
    "Trying to open a file that does not exist, such as\n",
    "mistyping the file name or looking in the wrong\n",
    "directory. "
   ]
  },
  {
   "cell_type": "code",
   "execution_count": 16,
   "id": "f62cf5a2",
   "metadata": {},
   "outputs": [
    {
     "ename": "TypeError",
     "evalue": "unsupported operand type(s) for +: 'int' and 'str'",
     "output_type": "error",
     "traceback": [
      "\u001b[1;31m---------------------------------------------------------------------------\u001b[0m",
      "\u001b[1;31mTypeError\u001b[0m                                 Traceback (most recent call last)",
      "Cell \u001b[1;32mIn[16], line 1\u001b[0m\n\u001b[1;32m----> 1\u001b[0m \u001b[38;5;241;43m6\u001b[39;49m\u001b[43m \u001b[49m\u001b[38;5;241;43m+\u001b[39;49m\u001b[43m \u001b[49m\u001b[38;5;124;43m'\u001b[39;49m\u001b[38;5;124;43ma\u001b[39;49m\u001b[38;5;124;43m'\u001b[39;49m\n",
      "\u001b[1;31mTypeError\u001b[0m: unsupported operand type(s) for +: 'int' and 'str'"
     ]
    }
   ],
   "source": [
    " 6 + 'a'"
   ]
  },
  {
   "cell_type": "code",
   "execution_count": 17,
   "id": "62c19dc1",
   "metadata": {},
   "outputs": [
    {
     "ename": "IndexError",
     "evalue": "list index out of range",
     "output_type": "error",
     "traceback": [
      "\u001b[1;31m---------------------------------------------------------------------------\u001b[0m",
      "\u001b[1;31mIndexError\u001b[0m                                Traceback (most recent call last)",
      "Cell \u001b[1;32mIn[17], line 2\u001b[0m\n\u001b[0;32m      1\u001b[0m lst \u001b[38;5;241m=\u001b[39m [\u001b[38;5;241m1\u001b[39m,\u001b[38;5;241m4\u001b[39m,\u001b[38;5;241m3\u001b[39m,\u001b[38;5;241m1\u001b[39m,\u001b[38;5;241m2\u001b[39m,\u001b[38;5;241m3\u001b[39m,\u001b[38;5;241m4\u001b[39m,\u001b[38;5;241m5\u001b[39m,\u001b[38;5;241m7\u001b[39m,\u001b[38;5;241m4\u001b[39m]\n\u001b[1;32m----> 2\u001b[0m \u001b[38;5;28mprint\u001b[39m(\u001b[43mlst\u001b[49m\u001b[43m[\u001b[49m\u001b[38;5;241;43m11\u001b[39;49m\u001b[43m]\u001b[49m)\n",
      "\u001b[1;31mIndexError\u001b[0m: list index out of range"
     ]
    }
   ],
   "source": [
    "lst = [1,4,3,1,2,3,4,5,7,4]\n",
    "print(lst[11])"
   ]
  },
  {
   "cell_type": "code",
   "execution_count": 18,
   "id": "311e5f54",
   "metadata": {},
   "outputs": [
    {
     "ename": "ValueError",
     "evalue": "math domain error",
     "output_type": "error",
     "traceback": [
      "\u001b[1;31m---------------------------------------------------------------------------\u001b[0m",
      "\u001b[1;31mValueError\u001b[0m                                Traceback (most recent call last)",
      "Cell \u001b[1;32mIn[18], line 3\u001b[0m\n\u001b[0;32m      1\u001b[0m \u001b[38;5;28;01mimport\u001b[39;00m \u001b[38;5;21;01mmath\u001b[39;00m\n\u001b[1;32m----> 3\u001b[0m \u001b[38;5;28mprint\u001b[39m(\u001b[43mmath\u001b[49m\u001b[38;5;241;43m.\u001b[39;49m\u001b[43msqrt\u001b[49m\u001b[43m(\u001b[49m\u001b[38;5;241;43m-\u001b[39;49m\u001b[38;5;241;43m1.0\u001b[39;49m\u001b[43m)\u001b[49m)\n",
      "\u001b[1;31mValueError\u001b[0m: math domain error"
     ]
    }
   ],
   "source": [
    "import math\n",
    "\n",
    "print(math.sqrt(-1.0))"
   ]
  },
  {
   "cell_type": "code",
   "execution_count": 19,
   "id": "17ffc62e",
   "metadata": {},
   "outputs": [
    {
     "ename": "NameError",
     "evalue": "name 'x' is not defined",
     "output_type": "error",
     "traceback": [
      "\u001b[1;31m---------------------------------------------------------------------------\u001b[0m",
      "\u001b[1;31mNameError\u001b[0m                                 Traceback (most recent call last)",
      "Cell \u001b[1;32mIn[19], line 1\u001b[0m\n\u001b[1;32m----> 1\u001b[0m \u001b[38;5;28mprint\u001b[39m(\u001b[43mx\u001b[49m)\n",
      "\u001b[1;31mNameError\u001b[0m: name 'x' is not defined"
     ]
    }
   ],
   "source": [
    "print(x)"
   ]
  },
  {
   "cell_type": "code",
   "execution_count": 22,
   "id": "813cdfed",
   "metadata": {},
   "outputs": [
    {
     "ename": "FileNotFoundError",
     "evalue": "[Errno 2] No such file or directory: 'hello.txt'",
     "output_type": "error",
     "traceback": [
      "\u001b[1;31m---------------------------------------------------------------------------\u001b[0m",
      "\u001b[1;31mFileNotFoundError\u001b[0m                         Traceback (most recent call last)",
      "Cell \u001b[1;32mIn[22], line 1\u001b[0m\n\u001b[1;32m----> 1\u001b[0m f \u001b[38;5;241m=\u001b[39m \u001b[38;5;28;43mopen\u001b[39;49m\u001b[43m(\u001b[49m\u001b[38;5;124;43m\"\u001b[39;49m\u001b[38;5;124;43mhello.txt\u001b[39;49m\u001b[38;5;124;43m\"\u001b[39;49m\u001b[43m)\u001b[49m\n",
      "File \u001b[1;32m~\\anaconda3\\lib\\site-packages\\IPython\\core\\interactiveshell.py:282\u001b[0m, in \u001b[0;36m_modified_open\u001b[1;34m(file, *args, **kwargs)\u001b[0m\n\u001b[0;32m    275\u001b[0m \u001b[38;5;28;01mif\u001b[39;00m file \u001b[38;5;129;01min\u001b[39;00m {\u001b[38;5;241m0\u001b[39m, \u001b[38;5;241m1\u001b[39m, \u001b[38;5;241m2\u001b[39m}:\n\u001b[0;32m    276\u001b[0m     \u001b[38;5;28;01mraise\u001b[39;00m \u001b[38;5;167;01mValueError\u001b[39;00m(\n\u001b[0;32m    277\u001b[0m         \u001b[38;5;124mf\u001b[39m\u001b[38;5;124m\"\u001b[39m\u001b[38;5;124mIPython won\u001b[39m\u001b[38;5;124m'\u001b[39m\u001b[38;5;124mt let you open fd=\u001b[39m\u001b[38;5;132;01m{\u001b[39;00mfile\u001b[38;5;132;01m}\u001b[39;00m\u001b[38;5;124m by default \u001b[39m\u001b[38;5;124m\"\u001b[39m\n\u001b[0;32m    278\u001b[0m         \u001b[38;5;124m\"\u001b[39m\u001b[38;5;124mas it is likely to crash IPython. If you know what you are doing, \u001b[39m\u001b[38;5;124m\"\u001b[39m\n\u001b[0;32m    279\u001b[0m         \u001b[38;5;124m\"\u001b[39m\u001b[38;5;124myou can use builtins\u001b[39m\u001b[38;5;124m'\u001b[39m\u001b[38;5;124m open.\u001b[39m\u001b[38;5;124m\"\u001b[39m\n\u001b[0;32m    280\u001b[0m     )\n\u001b[1;32m--> 282\u001b[0m \u001b[38;5;28;01mreturn\u001b[39;00m io_open(file, \u001b[38;5;241m*\u001b[39margs, \u001b[38;5;241m*\u001b[39m\u001b[38;5;241m*\u001b[39mkwargs)\n",
      "\u001b[1;31mFileNotFoundError\u001b[0m: [Errno 2] No such file or directory: 'hello.txt'"
     ]
    }
   ],
   "source": [
    "f = open(\"hello.txt\")"
   ]
  },
  {
   "cell_type": "markdown",
   "id": "b7b63925",
   "metadata": {},
   "source": [
    "### Question 10\n",
    "Encryption is the process of hiding the meaning of a text by substituting letters in the\n",
    "message with other letters, according to some system. If the process is successful, no\n",
    "one but the intended recipient can understand the encrypted message. Cryptanalysis\n",
    "refers to attempts to undo the encryption, even if some details of the encryption are\n",
    "unknown (for example, if an encrypted message has been intercepted). The first step\n",
    "of cryptanalysis is often to build up a table of letter frequencies in the encrypted text.\n",
    "Assume that the string letters is already defined as\n",
    "'abcdefghijklmnopqrstuvwxyz'. Write a function called frequencies()\n",
    "that takes a string as its only parameter, and returns a list of integers, showing the\n",
    "number of times each character appears in the text. Your function may ignore any\n",
    "characters that are not in letters. "
   ]
  },
  {
   "cell_type": "code",
   "execution_count": 3,
   "id": "f01c7c32",
   "metadata": {},
   "outputs": [
    {
     "name": "stdout",
     "output_type": "stream",
     "text": [
      "[1, 1, 1, 3, 5, 1, 1, 2, 1, 0, 1, 0, 1, 2, 4, 0, 1, 2, 0, 3, 1, 0, 1, 1, 0, 0]\n",
      "[1, 0, 0, 0, 1, 0, 0, 0, 0, 0, 0, 1, 0, 0, 0, 2, 0, 0, 0, 0, 0, 0, 0, 0, 0, 0]\n"
     ]
    }
   ],
   "source": [
    "def frequencies(sentence):\n",
    "    letters = 'abcdefghijklmnopqrstuvwxyz'\n",
    "    \n",
    "    freq = [0] * 26\n",
    "    sentence = sentence.lower()\n",
    "    \n",
    "    for char in sentence:\n",
    "        if char in letters:\n",
    "            freq[letters.index(char)] += 1\n",
    "    print(freq) \n",
    "frequencies('The quick red fox got bored and went home.')\n",
    "frequencies('apple')"
   ]
  }
 ],
 "metadata": {
  "kernelspec": {
   "display_name": "Python 3 (ipykernel)",
   "language": "python",
   "name": "python3"
  },
  "language_info": {
   "codemirror_mode": {
    "name": "ipython",
    "version": 3
   },
   "file_extension": ".py",
   "mimetype": "text/x-python",
   "name": "python",
   "nbconvert_exporter": "python",
   "pygments_lexer": "ipython3",
   "version": "3.9.16"
  }
 },
 "nbformat": 4,
 "nbformat_minor": 5
}
